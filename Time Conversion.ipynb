{
 "cells": [
  {
   "cell_type": "code",
   "execution_count": 1,
   "id": "0639ee02",
   "metadata": {},
   "outputs": [],
   "source": [
    "import numpy as np\n",
    "import astropy as ap\n",
    "from astropy.coordinates import EarthLocation\n",
    "from astropy.coordinates import SkyCoord\n",
    "from astropy import units as u\n",
    "from astropy.time import Time\n",
    "import matplotlib as plt\n",
    "import datetime \n",
    "from datetime import timezone\n",
    "import math"
   ]
  },
  {
   "cell_type": "code",
   "execution_count": 2,
   "id": "8a0d3d01",
   "metadata": {},
   "outputs": [],
   "source": [
    "def get_julian_datetime(date):\n",
    "    \"\"\"\n",
    "    Convert a datetime object into julian float.\n",
    "    Args:\n",
    "        date: datetime-object of date in question\n",
    "\n",
    "    Returns: float - Julian calculated datetime.\n",
    "    Raises: \n",
    "        TypeError : Incorrect parameter type\n",
    "        ValueError: Date out of range of equation\n",
    "    \"\"\"\n",
    "\n",
    "    # Ensure correct format\n",
    "    if not isinstance(date, datetime.datetime):\n",
    "        raise TypeError('Invalid type for parameter \"date\" - expecting datetime')\n",
    "    elif date.year < 1801 or date.year > 2099:\n",
    "        raise ValueError('Datetime must be between year 1801 and 2099')\n",
    "\n",
    "    # Perform the calculation\n",
    "    julian_datetime = 367 * date.year - int((7 * (date.year + int((date.month + 9) / 12.0))) / 4.0) + int(\n",
    "        (275 * date.month) / 9.0) + date.day + 1721013.5 + (\n",
    "                          date.hour + date.minute / 60.0 + date.second / math.pow(60,\n",
    "                                                                                  2)) / 24.0 - 0.5 * math.copysign(\n",
    "        1, 100 * date.year + date.month - 190002.5) + 0.5\n",
    "\n",
    "    return julian_datetime"
   ]
  },
  {
   "cell_type": "code",
   "execution_count": 3,
   "id": "a27ef4d8",
   "metadata": {},
   "outputs": [
    {
     "name": "stderr",
     "output_type": "stream",
     "text": [
      "WARNING: IERSWarning: failed to download https://datacenter.iers.org/data/9/finals2000A.all: The read operation timed out [astropy.utils.iers.iers]\n",
      "WARNING: IERSWarning: failed to download https://maia.usno.navy.mil/ser7/finals2000A.all: The read operation timed out [astropy.utils.iers.iers]\n",
      "WARNING: IERSWarning: unable to download valid IERS file, using local IERS-B [astropy.utils.iers.iers]\n"
     ]
    },
    {
     "ename": "IERSRangeError",
     "evalue": "(some) times are outside of range covered by IERS table. Cannot convert with full accuracy. To allow conversion with degraded accuracy set astropy.utils.iers.conf.iers_degraded_accuracy to \"warn\" or \"silent\". For more information about setting this configuration parameter or controlling its value globally, see the Astropy configuration system documentation https://docs.astropy.org/en/stable/config/index.html.",
     "output_type": "error",
     "traceback": [
      "\u001b[0;31m---------------------------------------------------------------------------\u001b[0m",
      "\u001b[0;31mIERSRangeError\u001b[0m                            Traceback (most recent call last)",
      "Cell \u001b[0;32mIn[3], line 4\u001b[0m\n\u001b[1;32m      2\u001b[0m observing_location \u001b[38;5;241m=\u001b[39m EarthLocation(lat\u001b[38;5;241m=\u001b[39m\u001b[38;5;241m37.8732\u001b[39m\u001b[38;5;241m*\u001b[39mu\u001b[38;5;241m.\u001b[39mdeg, lon\u001b[38;5;241m=\u001b[39m\u001b[38;5;241m237.7427\u001b[39m\u001b[38;5;241m*\u001b[39mu\u001b[38;5;241m.\u001b[39mdeg)\n\u001b[1;32m      3\u001b[0m observing_time \u001b[38;5;241m=\u001b[39m Time(datetime\u001b[38;5;241m.\u001b[39mdatetime\u001b[38;5;241m.\u001b[39mutcnow(), scale\u001b[38;5;241m=\u001b[39m\u001b[38;5;124m'\u001b[39m\u001b[38;5;124mutc\u001b[39m\u001b[38;5;124m'\u001b[39m, location\u001b[38;5;241m=\u001b[39mobserving_location)\n\u001b[0;32m----> 4\u001b[0m LST \u001b[38;5;241m=\u001b[39m \u001b[43mobserving_time\u001b[49m\u001b[38;5;241;43m.\u001b[39;49m\u001b[43msidereal_time\u001b[49m\u001b[43m(\u001b[49m\u001b[38;5;124;43m'\u001b[39;49m\u001b[38;5;124;43mmean\u001b[39;49m\u001b[38;5;124;43m'\u001b[39;49m\u001b[43m)\u001b[49m\n\u001b[1;32m      6\u001b[0m \u001b[38;5;66;03m#Get regular date/time\u001b[39;00m\n\u001b[1;32m      7\u001b[0m current_time \u001b[38;5;241m=\u001b[39m datetime\u001b[38;5;241m.\u001b[39mdatetime\u001b[38;5;241m.\u001b[39mnow()\n",
      "File \u001b[0;32m/usr/local/lib/python3.9/dist-packages/astropy/time/core.py:2268\u001b[0m, in \u001b[0;36mTime.sidereal_time\u001b[0;34m(self, kind, longitude, model)\u001b[0m\n\u001b[1;32m   2265\u001b[0m     model_kwargs \u001b[38;5;241m=\u001b[39m model_kwargs\u001b[38;5;241m.\u001b[39mcopy()\n\u001b[1;32m   2266\u001b[0m     model_kwargs[\u001b[38;5;124m\"\u001b[39m\u001b[38;5;124minclude_tio\u001b[39m\u001b[38;5;124m\"\u001b[39m] \u001b[38;5;241m=\u001b[39m \u001b[38;5;28;01mFalse\u001b[39;00m\n\u001b[0;32m-> 2268\u001b[0m \u001b[38;5;28;01mreturn\u001b[39;00m \u001b[38;5;28;43mself\u001b[39;49m\u001b[38;5;241;43m.\u001b[39;49m\u001b[43m_sid_time_or_earth_rot_ang\u001b[49m\u001b[43m(\u001b[49m\u001b[43mlongitude\u001b[49m\u001b[38;5;241;43m=\u001b[39;49m\u001b[43mlongitude\u001b[49m\u001b[43m,\u001b[49m\u001b[43m \u001b[49m\u001b[38;5;241;43m*\u001b[39;49m\u001b[38;5;241;43m*\u001b[39;49m\u001b[43mmodel_kwargs\u001b[49m\u001b[43m)\u001b[49m\n",
      "File \u001b[0;32m/usr/local/lib/python3.9/dist-packages/astropy/time/core.py:2318\u001b[0m, in \u001b[0;36mTime._sid_time_or_earth_rot_ang\u001b[0;34m(self, longitude, function, scales, include_tio)\u001b[0m\n\u001b[1;32m   2314\u001b[0m \u001b[38;5;28;01melse\u001b[39;00m:\n\u001b[1;32m   2315\u001b[0m     \u001b[38;5;66;03m# Sanity check on input; default unit is degree.\u001b[39;00m\n\u001b[1;32m   2316\u001b[0m     longitude \u001b[38;5;241m=\u001b[39m Longitude(longitude, u\u001b[38;5;241m.\u001b[39mdegree, copy\u001b[38;5;241m=\u001b[39m\u001b[38;5;28;01mFalse\u001b[39;00m)\n\u001b[0;32m-> 2318\u001b[0m theta \u001b[38;5;241m=\u001b[39m \u001b[38;5;28;43mself\u001b[39;49m\u001b[38;5;241;43m.\u001b[39;49m\u001b[43m_call_erfa\u001b[49m\u001b[43m(\u001b[49m\u001b[43mfunction\u001b[49m\u001b[43m,\u001b[49m\u001b[43m \u001b[49m\u001b[43mscales\u001b[49m\u001b[43m)\u001b[49m\n\u001b[1;32m   2320\u001b[0m \u001b[38;5;28;01mif\u001b[39;00m include_tio:\n\u001b[1;32m   2321\u001b[0m     \u001b[38;5;66;03m# TODO: this duplicates part of coordinates.erfa_astrom.ErfaAstrom.apio;\u001b[39;00m\n\u001b[1;32m   2322\u001b[0m     \u001b[38;5;66;03m# maybe posisble to factor out to one or the other.\u001b[39;00m\n\u001b[1;32m   2323\u001b[0m     sp \u001b[38;5;241m=\u001b[39m \u001b[38;5;28mself\u001b[39m\u001b[38;5;241m.\u001b[39m_call_erfa(erfa\u001b[38;5;241m.\u001b[39msp00, (\u001b[38;5;124m\"\u001b[39m\u001b[38;5;124mtt\u001b[39m\u001b[38;5;124m\"\u001b[39m,))\n",
      "File \u001b[0;32m/usr/local/lib/python3.9/dist-packages/astropy/time/core.py:2342\u001b[0m, in \u001b[0;36mTime._call_erfa\u001b[0;34m(self, function, scales)\u001b[0m\n\u001b[1;32m   2340\u001b[0m \u001b[38;5;28;01mdef\u001b[39;00m \u001b[38;5;21m_call_erfa\u001b[39m(\u001b[38;5;28mself\u001b[39m, function, scales):\n\u001b[1;32m   2341\u001b[0m     \u001b[38;5;66;03m# TODO: allow erfa functions to be used on Time with __array_ufunc__.\u001b[39;00m\n\u001b[0;32m-> 2342\u001b[0m     erfa_parameters \u001b[38;5;241m=\u001b[39m [\n\u001b[1;32m   2343\u001b[0m         \u001b[38;5;28mgetattr\u001b[39m(\u001b[38;5;28mgetattr\u001b[39m(\u001b[38;5;28mself\u001b[39m, scale)\u001b[38;5;241m.\u001b[39m_time, jd_part)\n\u001b[1;32m   2344\u001b[0m         \u001b[38;5;28;01mfor\u001b[39;00m scale \u001b[38;5;129;01min\u001b[39;00m scales\n\u001b[1;32m   2345\u001b[0m         \u001b[38;5;28;01mfor\u001b[39;00m jd_part \u001b[38;5;129;01min\u001b[39;00m (\u001b[38;5;124m\"\u001b[39m\u001b[38;5;124mjd1\u001b[39m\u001b[38;5;124m\"\u001b[39m, \u001b[38;5;124m\"\u001b[39m\u001b[38;5;124mjd2_filled\u001b[39m\u001b[38;5;124m\"\u001b[39m)\n\u001b[1;32m   2346\u001b[0m     ]\n\u001b[1;32m   2348\u001b[0m     result \u001b[38;5;241m=\u001b[39m function(\u001b[38;5;241m*\u001b[39merfa_parameters)\n\u001b[1;32m   2350\u001b[0m     \u001b[38;5;28;01mif\u001b[39;00m \u001b[38;5;28mself\u001b[39m\u001b[38;5;241m.\u001b[39mmasked:\n",
      "File \u001b[0;32m/usr/local/lib/python3.9/dist-packages/astropy/time/core.py:2343\u001b[0m, in \u001b[0;36m<listcomp>\u001b[0;34m(.0)\u001b[0m\n\u001b[1;32m   2340\u001b[0m \u001b[38;5;28;01mdef\u001b[39;00m \u001b[38;5;21m_call_erfa\u001b[39m(\u001b[38;5;28mself\u001b[39m, function, scales):\n\u001b[1;32m   2341\u001b[0m     \u001b[38;5;66;03m# TODO: allow erfa functions to be used on Time with __array_ufunc__.\u001b[39;00m\n\u001b[1;32m   2342\u001b[0m     erfa_parameters \u001b[38;5;241m=\u001b[39m [\n\u001b[0;32m-> 2343\u001b[0m         \u001b[38;5;28mgetattr\u001b[39m(\u001b[38;5;28;43mgetattr\u001b[39;49m\u001b[43m(\u001b[49m\u001b[38;5;28;43mself\u001b[39;49m\u001b[43m,\u001b[49m\u001b[43m \u001b[49m\u001b[43mscale\u001b[49m\u001b[43m)\u001b[49m\u001b[38;5;241m.\u001b[39m_time, jd_part)\n\u001b[1;32m   2344\u001b[0m         \u001b[38;5;28;01mfor\u001b[39;00m scale \u001b[38;5;129;01min\u001b[39;00m scales\n\u001b[1;32m   2345\u001b[0m         \u001b[38;5;28;01mfor\u001b[39;00m jd_part \u001b[38;5;129;01min\u001b[39;00m (\u001b[38;5;124m\"\u001b[39m\u001b[38;5;124mjd1\u001b[39m\u001b[38;5;124m\"\u001b[39m, \u001b[38;5;124m\"\u001b[39m\u001b[38;5;124mjd2_filled\u001b[39m\u001b[38;5;124m\"\u001b[39m)\n\u001b[1;32m   2346\u001b[0m     ]\n\u001b[1;32m   2348\u001b[0m     result \u001b[38;5;241m=\u001b[39m function(\u001b[38;5;241m*\u001b[39merfa_parameters)\n\u001b[1;32m   2350\u001b[0m     \u001b[38;5;28;01mif\u001b[39;00m \u001b[38;5;28mself\u001b[39m\u001b[38;5;241m.\u001b[39mmasked:\n",
      "File \u001b[0;32m/usr/local/lib/python3.9/dist-packages/astropy/time/core.py:1635\u001b[0m, in \u001b[0;36mTimeBase.__getattr__\u001b[0;34m(self, attr)\u001b[0m\n\u001b[1;32m   1633\u001b[0m \u001b[38;5;28;01melse\u001b[39;00m:\n\u001b[1;32m   1634\u001b[0m     tm \u001b[38;5;241m=\u001b[39m \u001b[38;5;28mself\u001b[39m\u001b[38;5;241m.\u001b[39mreplicate()\n\u001b[0;32m-> 1635\u001b[0m     \u001b[43mtm\u001b[49m\u001b[38;5;241;43m.\u001b[39;49m\u001b[43m_set_scale\u001b[49m\u001b[43m(\u001b[49m\u001b[43mattr\u001b[49m\u001b[43m)\u001b[49m\n\u001b[1;32m   1636\u001b[0m     \u001b[38;5;28;01mif\u001b[39;00m tm\u001b[38;5;241m.\u001b[39mshape:\n\u001b[1;32m   1637\u001b[0m         \u001b[38;5;66;03m# Prevent future modification of cached array-like object\u001b[39;00m\n\u001b[1;32m   1638\u001b[0m         tm\u001b[38;5;241m.\u001b[39mwriteable \u001b[38;5;241m=\u001b[39m \u001b[38;5;28;01mFalse\u001b[39;00m\n",
      "File \u001b[0;32m/usr/local/lib/python3.9/dist-packages/astropy/time/core.py:772\u001b[0m, in \u001b[0;36mTimeBase._set_scale\u001b[0;34m(self, scale)\u001b[0m\n\u001b[1;32m    770\u001b[0m         \u001b[38;5;28;01mpass\u001b[39;00m\n\u001b[1;32m    771\u001b[0m     \u001b[38;5;28;01melse\u001b[39;00m:\n\u001b[0;32m--> 772\u001b[0m         args\u001b[38;5;241m.\u001b[39mappend(\u001b[43mget_dt\u001b[49m\u001b[43m(\u001b[49m\u001b[43mjd1\u001b[49m\u001b[43m,\u001b[49m\u001b[43m \u001b[49m\u001b[43mjd2\u001b[49m\u001b[43m)\u001b[49m)\n\u001b[1;32m    773\u001b[0m         \u001b[38;5;28;01mbreak\u001b[39;00m\n\u001b[1;32m    775\u001b[0m conv_func \u001b[38;5;241m=\u001b[39m \u001b[38;5;28mgetattr\u001b[39m(erfa, sys1 \u001b[38;5;241m+\u001b[39m sys2)\n",
      "File \u001b[0;32m/usr/local/lib/python3.9/dist-packages/astropy/time/core.py:2427\u001b[0m, in \u001b[0;36mTime._get_delta_ut1_utc\u001b[0;34m(self, jd1, jd2)\u001b[0m\n\u001b[1;32m   2425\u001b[0m     scale \u001b[38;5;241m=\u001b[39m \u001b[38;5;28mself\u001b[39m\u001b[38;5;241m.\u001b[39mscale\n\u001b[1;32m   2426\u001b[0m \u001b[38;5;66;03m# interpolate UT1-UTC in IERS table\u001b[39;00m\n\u001b[0;32m-> 2427\u001b[0m delta \u001b[38;5;241m=\u001b[39m \u001b[43miers_table\u001b[49m\u001b[38;5;241;43m.\u001b[39;49m\u001b[43mut1_utc\u001b[49m\u001b[43m(\u001b[49m\u001b[43mjd1\u001b[49m\u001b[43m,\u001b[49m\u001b[43m \u001b[49m\u001b[43mjd2\u001b[49m\u001b[43m)\u001b[49m\n\u001b[1;32m   2428\u001b[0m \u001b[38;5;66;03m# if we interpolated using UT1 jds, we may be off by one\u001b[39;00m\n\u001b[1;32m   2429\u001b[0m \u001b[38;5;66;03m# second near leap seconds (and very slightly off elsewhere)\u001b[39;00m\n\u001b[1;32m   2430\u001b[0m \u001b[38;5;28;01mif\u001b[39;00m scale \u001b[38;5;241m==\u001b[39m \u001b[38;5;124m\"\u001b[39m\u001b[38;5;124mut1\u001b[39m\u001b[38;5;124m\"\u001b[39m:\n\u001b[1;32m   2431\u001b[0m     \u001b[38;5;66;03m# calculate UTC using the offset we got; the ERFA routine\u001b[39;00m\n\u001b[1;32m   2432\u001b[0m     \u001b[38;5;66;03m# is tolerant of leap seconds, so will do this right\u001b[39;00m\n",
      "File \u001b[0;32m/usr/local/lib/python3.9/dist-packages/astropy/utils/iers/iers.py:344\u001b[0m, in \u001b[0;36mIERS.ut1_utc\u001b[0;34m(self, jd1, jd2, return_status)\u001b[0m\n\u001b[1;32m    317\u001b[0m \u001b[38;5;28;01mdef\u001b[39;00m \u001b[38;5;21mut1_utc\u001b[39m(\u001b[38;5;28mself\u001b[39m, jd1, jd2\u001b[38;5;241m=\u001b[39m\u001b[38;5;241m0.0\u001b[39m, return_status\u001b[38;5;241m=\u001b[39m\u001b[38;5;28;01mFalse\u001b[39;00m):\n\u001b[1;32m    318\u001b[0m \u001b[38;5;250m    \u001b[39m\u001b[38;5;124;03m\"\"\"Interpolate UT1-UTC corrections in IERS Table for given dates.\u001b[39;00m\n\u001b[1;32m    319\u001b[0m \n\u001b[1;32m    320\u001b[0m \u001b[38;5;124;03m    Parameters\u001b[39;00m\n\u001b[0;32m   (...)\u001b[0m\n\u001b[1;32m    342\u001b[0m \u001b[38;5;124;03m        ``iers.TIME_BEYOND_IERS_RANGE``\u001b[39;00m\n\u001b[1;32m    343\u001b[0m \u001b[38;5;124;03m    \"\"\"\u001b[39;00m\n\u001b[0;32m--> 344\u001b[0m     \u001b[38;5;28;01mreturn\u001b[39;00m \u001b[38;5;28;43mself\u001b[39;49m\u001b[38;5;241;43m.\u001b[39;49m\u001b[43m_interpolate\u001b[49m\u001b[43m(\u001b[49m\n\u001b[1;32m    345\u001b[0m \u001b[43m        \u001b[49m\u001b[43mjd1\u001b[49m\u001b[43m,\u001b[49m\u001b[43m \u001b[49m\u001b[43mjd2\u001b[49m\u001b[43m,\u001b[49m\u001b[43m \u001b[49m\u001b[43m[\u001b[49m\u001b[38;5;124;43m\"\u001b[39;49m\u001b[38;5;124;43mUT1_UTC\u001b[39;49m\u001b[38;5;124;43m\"\u001b[39;49m\u001b[43m]\u001b[49m\u001b[43m,\u001b[49m\u001b[43m \u001b[49m\u001b[38;5;28;43mself\u001b[39;49m\u001b[38;5;241;43m.\u001b[39;49m\u001b[43mut1_utc_source\u001b[49m\u001b[43m \u001b[49m\u001b[38;5;28;43;01mif\u001b[39;49;00m\u001b[43m \u001b[49m\u001b[43mreturn_status\u001b[49m\u001b[43m \u001b[49m\u001b[38;5;28;43;01melse\u001b[39;49;00m\u001b[43m \u001b[49m\u001b[38;5;28;43;01mNone\u001b[39;49;00m\n\u001b[1;32m    346\u001b[0m \u001b[43m    \u001b[49m\u001b[43m)\u001b[49m\n",
      "File \u001b[0;32m/usr/local/lib/python3.9/dist-packages/astropy/utils/iers/iers.py:500\u001b[0m, in \u001b[0;36mIERS._interpolate\u001b[0;34m(self, jd1, jd2, columns, source)\u001b[0m\n\u001b[1;32m    498\u001b[0m     \u001b[38;5;28;01mreturn\u001b[39;00m results\n\u001b[1;32m    499\u001b[0m \u001b[38;5;28;01melse\u001b[39;00m:\n\u001b[0;32m--> 500\u001b[0m     \u001b[38;5;28;43mself\u001b[39;49m\u001b[38;5;241;43m.\u001b[39;49m\u001b[43m_check_interpolate_indices\u001b[49m\u001b[43m(\u001b[49m\u001b[43mi1\u001b[49m\u001b[43m,\u001b[49m\u001b[43m \u001b[49m\u001b[43mi\u001b[49m\u001b[43m,\u001b[49m\u001b[43m \u001b[49m\u001b[43mnp\u001b[49m\u001b[38;5;241;43m.\u001b[39;49m\u001b[43mmax\u001b[49m\u001b[43m(\u001b[49m\u001b[43mmjd\u001b[49m\u001b[43m)\u001b[49m\u001b[43m)\u001b[49m\n\u001b[1;32m    501\u001b[0m     \u001b[38;5;28;01mreturn\u001b[39;00m results[\u001b[38;5;241m0\u001b[39m] \u001b[38;5;28;01mif\u001b[39;00m \u001b[38;5;28mlen\u001b[39m(results) \u001b[38;5;241m==\u001b[39m \u001b[38;5;241m1\u001b[39m \u001b[38;5;28;01melse\u001b[39;00m results\n",
      "File \u001b[0;32m/usr/local/lib/python3.9/dist-packages/astropy/utils/iers/iers.py:433\u001b[0m, in \u001b[0;36mIERS._check_interpolate_indices\u001b[0;34m(self, indices_orig, indices_clipped, max_input_mjd)\u001b[0m\n\u001b[1;32m    423\u001b[0m \u001b[38;5;28;01mif\u001b[39;00m conf\u001b[38;5;241m.\u001b[39miers_degraded_accuracy \u001b[38;5;241m==\u001b[39m \u001b[38;5;124m\"\u001b[39m\u001b[38;5;124merror\u001b[39m\u001b[38;5;124m\"\u001b[39m:\n\u001b[1;32m    424\u001b[0m     msg \u001b[38;5;241m=\u001b[39m (\n\u001b[1;32m    425\u001b[0m         \u001b[38;5;124m\"\u001b[39m\u001b[38;5;124m(some) times are outside of range covered by IERS table. Cannot\u001b[39m\u001b[38;5;124m\"\u001b[39m\n\u001b[1;32m    426\u001b[0m         \u001b[38;5;124m\"\u001b[39m\u001b[38;5;124m convert with full accuracy. To allow conversion with degraded\u001b[39m\u001b[38;5;124m\"\u001b[39m\n\u001b[0;32m   (...)\u001b[0m\n\u001b[1;32m    431\u001b[0m         \u001b[38;5;124m\"\u001b[39m\u001b[38;5;124m https://docs.astropy.org/en/stable/config/index.html.\u001b[39m\u001b[38;5;124m\"\u001b[39m\n\u001b[1;32m    432\u001b[0m     )\n\u001b[0;32m--> 433\u001b[0m     \u001b[38;5;28;01mraise\u001b[39;00m IERSRangeError(msg)\n\u001b[1;32m    434\u001b[0m \u001b[38;5;28;01melif\u001b[39;00m conf\u001b[38;5;241m.\u001b[39miers_degraded_accuracy \u001b[38;5;241m==\u001b[39m \u001b[38;5;124m\"\u001b[39m\u001b[38;5;124mwarn\u001b[39m\u001b[38;5;124m\"\u001b[39m:\n\u001b[1;32m    435\u001b[0m     \u001b[38;5;66;03m# No IERS data covering the time(s) and user requested a warning.\u001b[39;00m\n\u001b[1;32m    436\u001b[0m     msg \u001b[38;5;241m=\u001b[39m (\n\u001b[1;32m    437\u001b[0m         \u001b[38;5;124m\"\u001b[39m\u001b[38;5;124m(some) times are outside of range covered by IERS table, \u001b[39m\u001b[38;5;124m\"\u001b[39m\n\u001b[1;32m    438\u001b[0m         \u001b[38;5;124m\"\u001b[39m\u001b[38;5;124maccuracy is degraded.\u001b[39m\u001b[38;5;124m\"\u001b[39m\n\u001b[1;32m    439\u001b[0m     )\n",
      "\u001b[0;31mIERSRangeError\u001b[0m: (some) times are outside of range covered by IERS table. Cannot convert with full accuracy. To allow conversion with degraded accuracy set astropy.utils.iers.conf.iers_degraded_accuracy to \"warn\" or \"silent\". For more information about setting this configuration parameter or controlling its value globally, see the Astropy configuration system documentation https://docs.astropy.org/en/stable/config/index.html."
     ]
    }
   ],
   "source": [
    "# Get LST. This part is run first because it takes a long time for some reason.\n",
    "observing_location = EarthLocation(lat=37.8732*u.deg, lon=237.7427*u.deg)\n",
    "observing_time = Time(datetime.datetime.utcnow(), scale='utc', location=observing_location)\n",
    "LST = observing_time.sidereal_time('mean')\n",
    "\n",
    "#Get regular date/time\n",
    "current_time = datetime.datetime.now()\n",
    "\n",
    "#Get UTC time\n",
    "dt = datetime.datetime.now(timezone.utc)\n",
    "utc_time = dt.replace(tzinfo=timezone.utc)\n",
    "utc_timestamp = utc_time.timestamp()\n",
    "\n",
    "\n",
    "print('The current date (YYYY-MM-DD) and time (HH:MM:SS) is',current_time)\n",
    "print('')\n",
    "print('Current UTC time is', utc_timestamp)\n",
    "print('')\n",
    "print('The current Julian Date is', get_julian_datetime(dt))\n",
    "print('')\n",
    "print('The current Local Sidereal Time is',LST)\n",
    "print('')"
   ]
  },
  {
   "cell_type": "code",
   "execution_count": null,
   "id": "0be5bada",
   "metadata": {},
   "outputs": [],
   "source": []
  },
  {
   "cell_type": "code",
   "execution_count": null,
   "id": "b19f0f70",
   "metadata": {},
   "outputs": [],
   "source": []
  },
  {
   "cell_type": "code",
   "execution_count": null,
   "id": "1c8e7b55",
   "metadata": {},
   "outputs": [],
   "source": []
  }
 ],
 "metadata": {
  "kernelspec": {
   "display_name": "Python 3",
   "language": "python",
   "name": "python3"
  },
  "language_info": {
   "codemirror_mode": {
    "name": "ipython",
    "version": 3
   },
   "file_extension": ".py",
   "mimetype": "text/x-python",
   "name": "python",
   "nbconvert_exporter": "python",
   "pygments_lexer": "ipython3",
   "version": "3.9.2"
  }
 },
 "nbformat": 4,
 "nbformat_minor": 5
}
