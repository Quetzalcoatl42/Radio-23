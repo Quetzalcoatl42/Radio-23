{
 "cells": [
  {
   "cell_type": "code",
   "execution_count": 1,
   "id": "0639ee02",
   "metadata": {},
   "outputs": [],
   "source": [
    "import numpy as np\n",
    "import astropy as ap\n",
    "from astropy.coordinates import EarthLocation\n",
    "from astropy.coordinates import SkyCoord\n",
    "from astropy import units as u\n",
    "from astropy.time import Time\n",
    "import matplotlib as plt\n",
    "import datetime \n",
    "from datetime import timezone\n",
    "import math"
   ]
  },
  {
   "cell_type": "code",
   "execution_count": 2,
   "id": "8a0d3d01",
   "metadata": {},
   "outputs": [],
   "source": [
    "def get_julian_datetime(date):\n",
    "    \"\"\"\n",
    "    Convert a datetime object into julian float.\n",
    "    Args:\n",
    "        date: datetime-object of date in question\n",
    "\n",
    "    Returns: float - Julian calculated datetime.\n",
    "    Raises: \n",
    "        TypeError : Incorrect parameter type\n",
    "        ValueError: Date out of range of equation\n",
    "    \"\"\"\n",
    "\n",
    "    # Ensure correct format\n",
    "    if not isinstance(date, datetime.datetime):\n",
    "        raise TypeError('Invalid type for parameter \"date\" - expecting datetime')\n",
    "    elif date.year < 1801 or date.year > 2099:\n",
    "        raise ValueError('Datetime must be between year 1801 and 2099')\n",
    "\n",
    "    # Perform the calculation\n",
    "    julian_datetime = 367 * date.year - int((7 * (date.year + int((date.month + 9) / 12.0))) / 4.0) + int(\n",
    "        (275 * date.month) / 9.0) + date.day + 1721013.5 + (\n",
    "                          date.hour + date.minute / 60.0 + date.second / math.pow(60,\n",
    "                                                                                  2)) / 24.0 - 0.5 * math.copysign(\n",
    "        1, 100 * date.year + date.month - 190002.5) + 0.5\n",
    "\n",
    "    return julian_datetime"
   ]
  },
  {
   "cell_type": "code",
   "execution_count": 3,
   "id": "a27ef4d8",
   "metadata": {},
   "outputs": [
    {
     "name": "stdout",
     "output_type": "stream",
     "text": [
      "The current date (YYYY-MM-DD) and time (HH:MM:SS) is 2023-02-15 15:01:07.457686\n",
      "\n",
      "Current UTC time is 1676502067.457686\n",
      "\n",
      "The current Julian Date is 2459991.4591087964\n",
      "\n",
      "The current Local Sidereal Time is 0h34m49.42009117s\n",
      "\n"
     ]
    }
   ],
   "source": [
    "# Get LST. This part is run first because it takes a long time for some reason.\n",
    "observing_location = EarthLocation(lat=37.8732*u.deg, lon=237.7427*u.deg)\n",
    "observing_time = Time(datetime.datetime.utcnow(), scale='utc', location=observing_location)\n",
    "LST = observing_time.sidereal_time('mean')\n",
    "\n",
    "#Get regular date/time\n",
    "current_time = datetime.datetime.now()\n",
    "\n",
    "#Get UTC time\n",
    "dt = datetime.datetime.now(timezone.utc)\n",
    "utc_time = dt.replace(tzinfo=timezone.utc)\n",
    "utc_timestamp = utc_time.timestamp()\n",
    "\n",
    "\n",
    "print('The current date (YYYY-MM-DD) and time (HH:MM:SS) is',current_time)\n",
    "print('')\n",
    "print('Current UTC time is', utc_timestamp)\n",
    "print('')\n",
    "print('The current Julian Date is', get_julian_datetime(dt))\n",
    "print('')\n",
    "print('The current Local Sidereal Time is',LST)\n",
    "print('')"
   ]
  },
  {
   "cell_type": "code",
   "execution_count": null,
   "id": "0be5bada",
   "metadata": {},
   "outputs": [],
   "source": []
  },
  {
   "cell_type": "code",
   "execution_count": null,
   "id": "b19f0f70",
   "metadata": {},
   "outputs": [],
   "source": []
  },
  {
   "cell_type": "code",
   "execution_count": null,
   "id": "1c8e7b55",
   "metadata": {},
   "outputs": [],
   "source": []
  }
 ],
 "metadata": {
  "kernelspec": {
   "display_name": "Python 3 (ipykernel)",
   "language": "python",
   "name": "python3"
  },
  "language_info": {
   "codemirror_mode": {
    "name": "ipython",
    "version": 3
   },
   "file_extension": ".py",
   "mimetype": "text/x-python",
   "name": "python",
   "nbconvert_exporter": "python",
   "pygments_lexer": "ipython3",
   "version": "3.9.7"
  }
 },
 "nbformat": 4,
 "nbformat_minor": 5
}
